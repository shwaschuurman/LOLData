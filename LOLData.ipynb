{
 "cells": [
  {
   "cell_type": "markdown",
   "id": "e7817a87-19e6-403c-81fb-105ef34bdb56",
   "metadata": {},
   "source": [
    "# Josh, Nelson, & Zander dataset \n",
    "Data obtained from Mitchell J on Kaggle:\n",
    "https://www.kaggle.com/datasets/datasnaek/league-of-legends"
   ]
  },
  {
   "cell_type": "code",
   "execution_count": 2,
   "id": "c192e391-3eca-4fb4-b0e9-f33f5e68b963",
   "metadata": {},
   "outputs": [],
   "source": [
    "import numpy as np\n",
    "import pandas as pd\n",
    "import sklearn\n",
    "from sklearn.linear_model import LogisticRegression\n",
    "from sklearn.svm import LinearSVC\n",
    "from sklearn.decomposition import PCA\n",
    "import matplotlib.pyplot as plt\n",
    "%matplotlib inline\n",
    "import mglearn\n",
    "from sklearn.neighbors import KNeighborsClassifier\n",
    "from sklearn.model_selection import train_test_split"
   ]
  },
  {
   "cell_type": "markdown",
   "id": "1ae26cc7-c435-413a-9c89-45ae5a1c70c2",
   "metadata": {},
   "source": [
    "## 1: importing data and splitting\n",
    "Here we import and trim our data, cleaning out some unused columns and separating the targets from the data points. Then we split into training and test sets."
   ]
  },
  {
   "cell_type": "code",
   "execution_count": 3,
   "id": "debc1206-6a86-488f-9171-32f815211653",
   "metadata": {},
   "outputs": [
    {
     "name": "stdout",
     "output_type": "stream",
     "text": [
      "[  1.   0.   0.   0.   0.   0.  12. 133.  51. 105.   5.   0.   0.   0.\n",
      "   0.   0.  31.  40.   3.  18.   8.  24.  99.  17. 498.  37.   0.   0.\n",
      "   0.   0.   0. 240.  92. 114.  53.  16.]\n",
      "[1. 0. 0. ... 1. 1. 1.]\n"
     ]
    }
   ],
   "source": [
    "game_dataset = np.genfromtxt('/cslab/class/cs381/joshschuurman/project_nb/game_data_trimmed_dos.csv', delimiter=',', skip_header=1)\n",
    "\n",
    "Y = np.array(game_dataset[:, 1]-1)\n",
    "X = np.array(game_dataset[:, 2:])\n",
    "\n",
    "X_train, X_test, y_train, y_test = train_test_split(X, Y, random_state=0)\n",
    "print(X_train[0])\n",
    "print(y_train)"
   ]
  },
  {
   "cell_type": "markdown",
   "id": "bd968632-3bd9-46a1-8607-dfa541030799",
   "metadata": {},
   "source": [
    "## 2: attempting KNN\n",
    "First we attempted KNN for simplicity. The accuracy never exceeds 52% no matter the parameters we use."
   ]
  },
  {
   "cell_type": "code",
   "execution_count": 3,
   "id": "8ec4c5be-49bb-4742-aee2-224f098d6411",
   "metadata": {},
   "outputs": [
    {
     "name": "stdout",
     "output_type": "stream",
     "text": [
      "Test set score: 0.51\n"
     ]
    }
   ],
   "source": [
    "knn = KNeighborsClassifier(n_neighbors=32)\n",
    "knn.fit(X_train, y_train)\n",
    "\n",
    "y_pred = knn.predict(X_test)\n",
    "print(\"Test set score: {:.2f}\".format(knn.score(X_test, y_test)))"
   ]
  },
  {
   "cell_type": "markdown",
   "id": "21de38ea-66dd-4a29-8deb-f5f6eb406982",
   "metadata": {},
   "source": [
    "## 3: Attempting MLP\n",
    "Next we attempted MLP, which reaches 95-96% accuracy. We tried a few other hidden layer sizes and parameters, but this seemed to be the best set. 500 is a relatively small iteration count, but we didn't find that upping it increased our accuracy. "
   ]
  },
  {
   "cell_type": "code",
   "execution_count": 4,
   "id": "63593402-f21d-4d71-803d-d68dce5c5237",
   "metadata": {},
   "outputs": [
    {
     "name": "stdout",
     "output_type": "stream",
     "text": [
      "Test set score: 0.95\n"
     ]
    }
   ],
   "source": [
    "from sklearn.neural_network import MLPClassifier\n",
    "mlp = MLPClassifier(solver='adam', activation='relu', hidden_layer_sizes=(128, 64, 32), alpha=0.0001, learning_rate_init=0.001, max_iter=500, random_state=0)\n",
    "mlp.fit(X_train, y_train)\n",
    "mlp.predict(X_test)\n",
    "print(\"Test set score: {:.2f}\".format(mlp.score(X_test, y_test)))"
   ]
  },
  {
   "cell_type": "markdown",
   "id": "54795a7f-e009-4334-bf5b-1b9041f06355",
   "metadata": {},
   "source": [
    "## 4: Attempting SVC\n",
    "Here we attempt SVC, which shows similar results to MLP. Nothing significant of note yet."
   ]
  },
  {
   "cell_type": "code",
   "execution_count": 4,
   "id": "c8a56681-12c0-42a0-93ec-c7cef2c1e12b",
   "metadata": {},
   "outputs": [
    {
     "name": "stdout",
     "output_type": "stream",
     "text": [
      "Test set score: 0.96\n"
     ]
    }
   ],
   "source": [
    "clf = LinearSVC()\n",
    "clf.fit(X_train, y_train)\n",
    "\n",
    "y_pred = clf.predict(X_test)\n",
    "\n",
    "y_pred = clf.predict(X_test)\n",
    "print(\"Test set score: {:.2f}\".format(clf.score(X_test, y_test)))"
   ]
  },
  {
   "cell_type": "markdown",
   "id": "c5f69059-25b1-4d1e-aca2-f970daabc6e3",
   "metadata": {},
   "source": [
    "## 5: PCA\n",
    "Since our data contains a very large amount of features, we next attmpted PCA to see if we could reduce it. We used both 21 and 20 component vectors, which is explained in the next block."
   ]
  },
  {
   "cell_type": "code",
   "execution_count": 5,
   "id": "99926930-96ec-461a-93d3-0cb42507ec30",
   "metadata": {},
   "outputs": [
    {
     "name": "stdout",
     "output_type": "stream",
     "text": [
      "Original shape: (51490, 36)\n",
      "Reduced shape to 21: (51490, 21)\n",
      "Reduced shape to 20: (51490, 20)\n"
     ]
    }
   ],
   "source": [
    "pca21 = PCA(n_components=21)\n",
    "pca20 = PCA(n_components=20)\n",
    "\n",
    "pca21.fit(X)\n",
    "pca20.fit(X)\n",
    "X_pca21 = pca21.transform(X)\n",
    "X_pca20 = pca20.transform(X)\n",
    "print(\"Original shape: {}\".format(str(X.shape)))\n",
    "print(\"Reduced shape to 21: {}\".format(str(X_pca21.shape)))\n",
    "print(\"Reduced shape to 20: {}\".format(str(X_pca20.shape)))"
   ]
  },
  {
   "cell_type": "markdown",
   "id": "e88d8c7e-3f08-48a2-872a-d73b132536b8",
   "metadata": {},
   "source": [
    "## 6: SVC post-PCA\n",
    "When we were performing SVC post PCA we noticed something interesting: our accuracy is completely consistant at 95-96% accuracy with 21 component vectors, but plummets to random guessing providing around 50% accuracy with 20 components. Furthermore, we noticed that only the 21st component vector was actually contributing any accuracy at all."
   ]
  },
  {
   "cell_type": "code",
   "execution_count": 6,
   "id": "1da9ed60-4a40-40b0-98a2-3aabe25b723c",
   "metadata": {},
   "outputs": [
    {
     "name": "stdout",
     "output_type": "stream",
     "text": [
      "Test set score with 21 component vectors: 0.96\n",
      "Test set score with 20 component vectors: 0.52\n",
      "Test set score with only the 21st component vector from PCA to 21: 0.96\n"
     ]
    }
   ],
   "source": [
    "X_train, X_test, y_train, y_test = train_test_split(X_pca21, Y, random_state=0)\n",
    "clf.fit(X_train, y_train)\n",
    "\n",
    "y_pred = clf.predict(X_test)\n",
    "print(\"Test set score with 21 component vectors: {:.2f}\".format(clf.score(X_test, y_test)))\n",
    "\n",
    "X_train, X_test, y_train, y_test = train_test_split(X_pca20, Y, random_state=0)\n",
    "clf.fit(X_train, y_train)\n",
    "\n",
    "y_pred = clf.predict(X_test)\n",
    "print(\"Test set score with 20 component vectors: {:.2f}\".format(clf.score(X_test, y_test)))\n",
    "\n",
    "X_pca21_only21 = X_pca21[:, 20:]\n",
    "X_train, X_test, y_train, y_test = train_test_split(X_pca21_only21, Y, random_state=0)\n",
    "clf.fit(X_train, y_train)\n",
    "y_pred = clf.predict(X_test)\n",
    "print(\"Test set score with only the 21st component vector from PCA to 21: {:.2f}\".format(clf.score(X_test, y_test)))\n",
    "\n",
    "#look at 21st component and how it compares\n",
    "#matrix of scatter plots for features pre-pca"
   ]
  },
  {
   "cell_type": "markdown",
   "id": "38f2b3fd-f1ef-4b6a-90a5-451d7351897b",
   "metadata": {},
   "source": [
    "## 7: Visualization\n",
    "To try and make sense of our mysterious 21st component vector, we plotted the vectors against eachother on a scatter plot."
   ]
  },
  {
   "cell_type": "code",
   "execution_count": 1,
   "id": "8399e9fd-5251-408a-a851-58ec67f3e378",
   "metadata": {},
   "outputs": [
    {
     "ename": "NameError",
     "evalue": "name 'pd' is not defined",
     "output_type": "error",
     "traceback": [
      "\u001b[0;31m---------------------------------------------------------------------------\u001b[0m",
      "\u001b[0;31mNameError\u001b[0m                                 Traceback (most recent call last)",
      "Cell \u001b[0;32mIn[1], line 1\u001b[0m\n\u001b[0;32m----> 1\u001b[0m df \u001b[38;5;241m=\u001b[39m \u001b[43mpd\u001b[49m\u001b[38;5;241m.\u001b[39mDataFrame(X_pca21, columns\u001b[38;5;241m=\u001b[39m[\u001b[38;5;124m'\u001b[39m\u001b[38;5;124m1\u001b[39m\u001b[38;5;124m'\u001b[39m, \u001b[38;5;124m'\u001b[39m\u001b[38;5;124m2\u001b[39m\u001b[38;5;124m'\u001b[39m, \u001b[38;5;124m'\u001b[39m\u001b[38;5;124m3\u001b[39m\u001b[38;5;124m'\u001b[39m, \u001b[38;5;124m'\u001b[39m\u001b[38;5;124m4\u001b[39m\u001b[38;5;124m'\u001b[39m, \u001b[38;5;124m'\u001b[39m\u001b[38;5;124m5\u001b[39m\u001b[38;5;124m'\u001b[39m, \u001b[38;5;124m'\u001b[39m\u001b[38;5;124m6\u001b[39m\u001b[38;5;124m'\u001b[39m, \u001b[38;5;124m'\u001b[39m\u001b[38;5;124m7\u001b[39m\u001b[38;5;124m'\u001b[39m, \u001b[38;5;124m'\u001b[39m\u001b[38;5;124m8\u001b[39m\u001b[38;5;124m'\u001b[39m, \u001b[38;5;124m'\u001b[39m\u001b[38;5;124m9\u001b[39m\u001b[38;5;124m'\u001b[39m,\n\u001b[1;32m      2\u001b[0m                                    \u001b[38;5;124m'\u001b[39m\u001b[38;5;124m10\u001b[39m\u001b[38;5;124m'\u001b[39m, \u001b[38;5;124m'\u001b[39m\u001b[38;5;124m11\u001b[39m\u001b[38;5;124m'\u001b[39m, \u001b[38;5;124m'\u001b[39m\u001b[38;5;124m12\u001b[39m\u001b[38;5;124m'\u001b[39m, \u001b[38;5;124m'\u001b[39m\u001b[38;5;124m13\u001b[39m\u001b[38;5;124m'\u001b[39m, \u001b[38;5;124m'\u001b[39m\u001b[38;5;124m14\u001b[39m\u001b[38;5;124m'\u001b[39m, \u001b[38;5;124m'\u001b[39m\u001b[38;5;124m15\u001b[39m\u001b[38;5;124m'\u001b[39m, \u001b[38;5;124m'\u001b[39m\u001b[38;5;124m16\u001b[39m\u001b[38;5;124m'\u001b[39m, \u001b[38;5;124m'\u001b[39m\u001b[38;5;124m17\u001b[39m\u001b[38;5;124m'\u001b[39m,\n\u001b[1;32m      3\u001b[0m                                    \u001b[38;5;124m'\u001b[39m\u001b[38;5;124m18\u001b[39m\u001b[38;5;124m'\u001b[39m, \u001b[38;5;124m'\u001b[39m\u001b[38;5;124m19\u001b[39m\u001b[38;5;124m'\u001b[39m, \u001b[38;5;124m'\u001b[39m\u001b[38;5;124m20\u001b[39m\u001b[38;5;124m'\u001b[39m, \u001b[38;5;124m'\u001b[39m\u001b[38;5;124m21\u001b[39m\u001b[38;5;124m'\u001b[39m])\n",
      "\u001b[0;31mNameError\u001b[0m: name 'pd' is not defined"
     ]
    }
   ],
   "source": [
    "df = pd.DataFrame(X_pca21, columns=['1', '2', '3', '4', '5', '6', '7', '8', '9',\n",
    "                                   '10', '11', '12', '13', '14', '15', '16', '17',\n",
    "                                   '18', '19', '20', '21'])"
   ]
  },
  {
   "cell_type": "code",
   "execution_count": null,
   "id": "85fbb494-66ab-49db-ba8b-c8562c168576",
   "metadata": {},
   "outputs": [],
   "source": [
    "plot = pd.plotting.scatter_matrix(df, alpha=0.2, figsize = (8,8), c=Y)"
   ]
  },
  {
   "cell_type": "markdown",
   "id": "78bb042b-580e-4a03-996d-4de791888fb3",
   "metadata": {},
   "source": [
    "## 8: Conclusion\n",
    "So which columns from the original data are important?\n",
    "To figure this out, we plotted all of the original datapoints against each other in a similar fashion. To spare you from the visual clutter, we just pulled the two features that seemed to be linearly separable: tower kills for each team."
   ]
  },
  {
   "cell_type": "code",
   "execution_count": 7,
   "id": "2b82c631-d2d5-4cf1-9615-3d1d2888816a",
   "metadata": {},
   "outputs": [],
   "source": [
    "col1 = X[:, 11]\n",
    "col2 = X[:, 26]\n",
    "cols = np.column_stack((col1, col2))\n",
    "df = pd.DataFrame(cols, columns=['Team 1 Tower Kills', 'Team 2 Tower Kills'])"
   ]
  },
  {
   "cell_type": "code",
   "execution_count": 8,
   "id": "9e8d62cd-11da-4ea5-9be3-84efe73471d6",
   "metadata": {},
   "outputs": [
    {
     "data": {
      "image/png": "[encoded data removed]",
      "text/plain": [
       "<Figure size 600x600 with 4 Axes>"
      ]
     },
     "metadata": {},
     "output_type": "display_data"
    }
   ],
   "source": [
    "plot = pd.plotting.scatter_matrix(df, alpha=0.2, figsize = (6,6), c=Y, s=210, marker='s')"
   ]
  }
 ],
 "metadata": {
  "kernelspec": {
   "display_name": "Python 3 (ipykernel)",
   "language": "python",
   "name": "python3"
  },
  "language_info": {
   "codemirror_mode": {
    "name": "ipython",
    "version": 3
   },
   "file_extension": ".py",
   "mimetype": "text/x-python",
   "name": "python",
   "nbconvert_exporter": "python",
   "pygments_lexer": "ipython3",
   "version": "3.9.21"
  }
 },
 "nbformat": 4,
 "nbformat_minor": 5
}
